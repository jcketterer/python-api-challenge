{
 "cells": [
  {
   "cell_type": "markdown",
   "metadata": {},
   "source": [
    "# WeatherPy\n",
    "----\n",
    "\n",
    "#### Note\n",
    "* Instructions have been included for each segment. You do not have to follow them exactly, but they are included to help you think through the steps."
   ]
  },
  {
   "cell_type": "code",
   "execution_count": 1,
   "metadata": {
    "scrolled": true
   },
   "outputs": [],
   "source": [
    "# Dependencies and Setup\n",
    "import matplotlib.pyplot as plt\n",
    "import pandas as pd\n",
    "import numpy as np\n",
    "import requests\n",
    "import time\n",
    "import json\n",
    "from pprint import pprint\n",
    "\n",
    "# Import API key\n",
    "from api_keys import api_key\n",
    "units = 'imperial'\n",
    "# Incorporated citipy to determine city based on latitude and longitude\n",
    "from citipy import citipy\n",
    "\n",
    "# Output File (CSV)\n",
    "output_data_file = \"weatherdata.csv\"\n",
    "\n",
    "\n",
    "# Range of latitudes and longitudes\n",
    "lat_range = (-90, 90)\n",
    "lng_range = (-180, 180)\n",
    "\n",
    "#Defined URL\n",
    "base_url = f\"http://api.openweathermap.org/data/2.5/weather?appid={api_key}&units={units}&q=\"\n",
    "\n",
    "count_one = 0\n",
    "set_one = 1\n"
   ]
  },
  {
   "cell_type": "markdown",
   "metadata": {},
   "source": [
    "## Generate Cities List"
   ]
  },
  {
   "cell_type": "code",
   "execution_count": 2,
   "metadata": {},
   "outputs": [
    {
     "data": {
      "text/plain": [
       "628"
      ]
     },
     "execution_count": 2,
     "metadata": {},
     "output_type": "execute_result"
    }
   ],
   "source": [
    "# List for holding lat_lngs and cities\n",
    "lat_lngs = []\n",
    "cities = []\n",
    "\n",
    "# Create a set of random lat and lng combinations\n",
    "lats = np.random.uniform(low=-90.000, high=90.000, size=1500)\n",
    "lngs = np.random.uniform(low=-180.000, high=180.000, size=1500)\n",
    "lat_lngs = zip(lats, lngs)\n",
    "\n",
    "# Identify nearest city for each lat, lng combination\n",
    "for lat_lng in lat_lngs:\n",
    "    city = citipy.nearest_city(lat_lng[0], lat_lng[1]).city_name\n",
    "    \n",
    "    # If the city is unique, then add it to a our cities list\n",
    "    if city not in cities:\n",
    "        cities.append(city)\n",
    "\n",
    "# Print the city count to confirm sufficient count\n",
    "len(cities)"
   ]
  },
  {
   "cell_type": "markdown",
   "metadata": {},
   "source": [
    "### Perform API Calls\n",
    "* Perform a weather check on each city using a series of successive API calls.\n",
    "* Include a print log of each city as it'sbeing processed (with the city number and city name).\n"
   ]
  },
  {
   "cell_type": "code",
   "execution_count": null,
   "metadata": {},
   "outputs": [
    {
     "name": "stdout",
     "output_type": "stream",
     "text": [
      "Processing Record 1 of Set 1 | anadyr\n",
      "Processing Record 2 of Set 1 | atuona\n",
      "Processing Record 3 of Set 1 | saint-georges\n",
      "Processing Record 4 of Set 1 | birao\n",
      "Processing Record 5 of Set 1 | leningradskiy\n",
      "Processing Record 6 of Set 1 | palu\n",
      "Processing Record 7 of Set 1 | mahebourg\n",
      "Processing Record 8 of Set 1 | ushuaia\n",
      "Processing Record 9 of Set 1 | ahipara\n",
      "Processing Record 10 of Set 1 | bambous virieux\n",
      "City Not Found, Skipping.\n",
      "Processing Record 11 of Set 1 | rikitea\n",
      "Processing Record 12 of Set 1 | mataura\n",
      "Processing Record 13 of Set 1 | vaini\n",
      "Processing Record 14 of Set 1 | busselton\n",
      "Processing Record 15 of Set 1 | nemuro\n",
      "Processing Record 16 of Set 1 | northview\n",
      "Processing Record 17 of Set 1 | hilo\n",
      "City Not Found, Skipping.\n",
      "Processing Record 18 of Set 1 | mys shmidta\n",
      "Processing Record 19 of Set 1 | marechal deodoro\n",
      "Processing Record 20 of Set 1 | half moon bay\n",
      "Processing Record 21 of Set 1 | nechi\n",
      "Processing Record 22 of Set 1 | alice springs\n",
      "Processing Record 23 of Set 1 | petauke\n",
      "Processing Record 24 of Set 1 | tiksi\n",
      "Processing Record 25 of Set 1 | atocha\n",
      "Processing Record 26 of Set 1 | cape town\n",
      "City Not Found, Skipping.\n",
      "Processing Record 27 of Set 1 | grand river south east\n",
      "Processing Record 28 of Set 1 | puerto ayora\n",
      "Processing Record 29 of Set 1 | huanren\n",
      "Processing Record 30 of Set 1 | tallahassee\n",
      "Processing Record 31 of Set 1 | lagoa\n",
      "Processing Record 32 of Set 1 | kadom\n",
      "Processing Record 33 of Set 1 | tasiilaq\n",
      "Processing Record 34 of Set 1 | saskylakh\n",
      "Processing Record 35 of Set 1 | tarata\n",
      "Processing Record 36 of Set 1 | nouadhibou\n",
      "Processing Record 37 of Set 1 | new norfolk\n",
      "Processing Record 38 of Set 1 | dikson\n",
      "City Not Found, Skipping.\n",
      "City Not Found, Skipping.\n",
      "Processing Record 39 of Set 1 | butaritari\n",
      "Processing Record 40 of Set 1 | sao joao da barra\n",
      "Processing Record 41 of Set 1 | kruisfontein\n",
      "Processing Record 42 of Set 1 | pitimbu\n",
      "Processing Record 43 of Set 1 | lima\n",
      "Processing Record 44 of Set 1 | albany\n",
      "Processing Record 45 of Set 1 | longyearbyen\n",
      "Processing Record 46 of Set 1 | nikolskoye\n",
      "Processing Record 47 of Set 1 | arona\n",
      "Processing Record 48 of Set 1 | kavieng\n",
      "Processing Record 49 of Set 1 | san patricio\n",
      "Processing Record 1 of Set 2 | belmonte\n",
      "Processing Record 2 of Set 2 | geraldton\n",
      "Processing Record 3 of Set 2 | strelka\n",
      "Processing Record 4 of Set 2 | pisco\n",
      "Processing Record 5 of Set 2 | sitka\n",
      "Processing Record 6 of Set 2 | lebu\n",
      "Processing Record 7 of Set 2 | nanortalik\n",
      "Processing Record 8 of Set 2 | richards bay\n",
      "Processing Record 9 of Set 2 | punta arenas\n",
      "City Not Found, Skipping.\n",
      "Processing Record 10 of Set 2 | tuktoyaktuk\n",
      "Processing Record 11 of Set 2 | yellowknife\n",
      "City Not Found, Skipping.\n",
      "Processing Record 12 of Set 2 | pangnirtung\n",
      "Processing Record 13 of Set 2 | faanui\n",
      "Processing Record 14 of Set 2 | sioux lookout\n",
      "Processing Record 15 of Set 2 | khatanga\n",
      "Processing Record 16 of Set 2 | adre\n",
      "Processing Record 17 of Set 2 | ariquemes\n",
      "Processing Record 18 of Set 2 | balabac\n",
      "Processing Record 19 of Set 2 | carnarvon\n",
      "Processing Record 20 of Set 2 | auki\n",
      "Processing Record 21 of Set 2 | padang\n",
      "Processing Record 22 of Set 2 | bubaque\n",
      "City Not Found, Skipping.\n"
     ]
    }
   ],
   "source": [
    "#List of all variables \n",
    "city_two = []\n",
    "cloudiness = []\n",
    "dates = []\n",
    "latitude = []\n",
    "longitude = []\n",
    "humidity = []\n",
    "hightemp = []\n",
    "countrylist = []\n",
    "windspeed = []\n",
    "\n",
    "#Record and set starting points \n",
    "count_one = 0\n",
    "set_one = 1\n",
    "\n",
    "#Structure for line data \n",
    "\n",
    "for city in cities:\n",
    "    try: \n",
    "        response = requests.get(base_url + city.replace(\" \",\"&\")).json()\n",
    "        cloudiness.append(response['clouds']['all'])\n",
    "        countrylist.append(response['sys']['country'])\n",
    "        dates.append(response['dt'])\n",
    "        humidity.append(response['main']['humidity'])\n",
    "        latitude.append(response['coord']['lat'])\n",
    "        longitude.append(response['coord']['lon'])\n",
    "        hightemp.append(response['main']['temp_max'])\n",
    "        windspeed.append(response['wind']['speed'])\n",
    "        if count_one > 48:\n",
    "            count_one = 1\n",
    "            set_one += 1\n",
    "            city_two.append(city)\n",
    "        else: \n",
    "            count_one += 1\n",
    "            city_two.append(city)\n",
    "        print(f\"Processing Record {count_one} of Set {set_one} | {city}\")\n",
    "\n",
    "    except Exception: \n",
    "        print(\"City Not Found, Skipping.\")\n",
    "\n",
    "print(\"-----------------\\nData Retrieval Complete\\n-------------------\")\n"
   ]
  },
  {
   "cell_type": "markdown",
   "metadata": {},
   "source": [
    "### Convert Raw Data to DataFrame\n",
    "* Export the city data into a .csv.\n",
    "* Display the DataFrame"
   ]
  },
  {
   "cell_type": "code",
   "execution_count": null,
   "metadata": {},
   "outputs": [],
   "source": [
    "weather_dict = {\n",
    "\n",
    "    \"City\":city_two,\n",
    "    \"Cloud Cover\":cloudiness,\n",
    "    \"Country\":countrylist,\n",
    "    \"Dates\":dates,\n",
    "    \"Humidity\":humidity,\n",
    "    \"Lat\":latitude,\n",
    "    \"Long\":longitude,\n",
    "    \"Highest Temp\":hightemp,\n",
    "    \"Wind Speed\":windspeed\n",
    "}"
   ]
  },
  {
   "cell_type": "code",
   "execution_count": null,
   "metadata": {},
   "outputs": [],
   "source": [
    "weather_df = pd.DataFrame(weather_dict)\n",
    "weather_df.head()"
   ]
  },
  {
   "cell_type": "code",
   "execution_count": null,
   "metadata": {},
   "outputs": [],
   "source": [
    "weather_df.to_csv(output_data_file)"
   ]
  },
  {
   "cell_type": "code",
   "execution_count": null,
   "metadata": {},
   "outputs": [],
   "source": [
    "weather_df.count()"
   ]
  },
  {
   "cell_type": "markdown",
   "metadata": {},
   "source": [
    "### Plotting the Data\n",
    "* Use proper labeling of the plots using plot titles (including date of analysis) and axes labels.\n",
    "* Save the plotted figures as .pngs."
   ]
  },
  {
   "cell_type": "markdown",
   "metadata": {},
   "source": [
    "#### Latitude vs. Temperature Plot"
   ]
  },
  {
   "cell_type": "code",
   "execution_count": null,
   "metadata": {},
   "outputs": [],
   "source": [
    "plt.scatter(weather_df[\"Lat\"], weather_df[\"Highest Temp\"],edgecolors=\"black\",facecolors=\"blue\")\n",
    "plt.title(\"City Lat vs Highest Temp\")\n",
    "plt.xlabel(\"Latitude\")\n",
    "plt.ylabel(\"Highest Temp in (F)\")\n",
    "plt.grid(b=True,which=\"major\",axis=\"both\",linestyle=\"-\",color=\"lightgrey\")\n",
    "plt.savefig(\"latvtemp.png\")\n",
    "plt.show()"
   ]
  },
  {
   "cell_type": "markdown",
   "metadata": {},
   "source": [
    "#### Latitude vs. Humidity Plot"
   ]
  },
  {
   "cell_type": "code",
   "execution_count": null,
   "metadata": {},
   "outputs": [],
   "source": [
    "plt.scatter(weather_df[\"Lat\"], weather_df[\"Humidity\"],edgecolors=\"black\",facecolors=\"blue\")\n",
    "plt.title(\"City Lat vs Highest Temp\")\n",
    "plt.xlabel(\"Latitude\")\n",
    "plt.ylabel(\"Highest Temp in (F)\")\n",
    "plt.grid(b=True,which=\"major\",axis=\"both\",linestyle=\"-\",color=\"lightgrey\")\n",
    "plt.savefig(\"latvhumid.png\")\n",
    "plt.show()"
   ]
  },
  {
   "cell_type": "markdown",
   "metadata": {},
   "source": [
    "#### Latitude vs. Cloudiness Plot"
   ]
  },
  {
   "cell_type": "code",
   "execution_count": null,
   "metadata": {},
   "outputs": [],
   "source": [
    "plt.scatter(weather_df[\"Lat\"], weather_df[\"Cloud Cover\"],edgecolors=\"black\",facecolors=\"blue\")\n",
    "plt.title(\"City Lat vs Highest Temp\")\n",
    "plt.xlabel(\"Latitude\")\n",
    "plt.ylabel(\"Highest Temp in (F)\")\n",
    "plt.grid(b=True,which=\"major\",axis=\"both\",linestyle=\"-\",color=\"lightgrey\")\n",
    "plt.savefig(\"latvcl.png\")\n",
    "plt.show()"
   ]
  },
  {
   "cell_type": "markdown",
   "metadata": {},
   "source": [
    "#### Latitude vs. Wind Speed Plot"
   ]
  },
  {
   "cell_type": "code",
   "execution_count": null,
   "metadata": {},
   "outputs": [],
   "source": [
    "plt.scatter(weather_df[\"Lat\"], weather_df[\"Wind Speed\"],edgecolors=\"black\",facecolors=\"blue\")\n",
    "plt.title(\"City Lat vs Highest Temp\")\n",
    "plt.xlabel(\"Latitude\")\n",
    "plt.ylabel(\"Highest Temp in (F)\")\n",
    "plt.grid(b=True,which=\"major\",axis=\"both\",linestyle=\"-\",color=\"lightgrey\")\n",
    "plt.savefig(\"latvws.png\")\n",
    "plt.show()"
   ]
  },
  {
   "cell_type": "code",
   "execution_count": null,
   "metadata": {},
   "outputs": [],
   "source": []
  }
 ],
 "metadata": {
  "anaconda-cloud": {},
  "kernel_info": {
   "name": "python3"
  },
  "kernelspec": {
   "display_name": "Python 3",
   "language": "python",
   "name": "python3"
  },
  "language_info": {
   "codemirror_mode": {
    "name": "ipython",
    "version": 3
   },
   "file_extension": ".py",
   "mimetype": "text/x-python",
   "name": "python",
   "nbconvert_exporter": "python",
   "pygments_lexer": "ipython3",
   "version": "3.6.9"
  },
  "nteract": {
   "version": "0.12.3"
  }
 },
 "nbformat": 4,
 "nbformat_minor": 2
}
